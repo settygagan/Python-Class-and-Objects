{
  "nbformat": 4,
  "nbformat_minor": 0,
  "metadata": {
    "colab": {
      "provenance": []
    },
    "kernelspec": {
      "name": "python3",
      "display_name": "Python 3"
    },
    "language_info": {
      "name": "python"
    }
  },
  "cells": [
    {
      "cell_type": "markdown",
      "source": [
        "Obeject Orient (oops concept)"
      ],
      "metadata": {
        "id": "-ZZRsQ0ehGT0"
      }
    },
    {
      "cell_type": "code",
      "execution_count": null,
      "metadata": {
        "colab": {
          "base_uri": "https://localhost:8080/"
        },
        "id": "vvxhM1qEgzNs",
        "outputId": "55b525b1-2f39-4938-81d4-c134b06ae96c"
      },
      "outputs": [
        {
          "output_type": "stream",
          "name": "stdout",
          "text": [
            "Welcome to oops concept\n"
          ]
        }
      ],
      "source": [
        "class Python:\n",
        "  def fun(self):\n",
        "        print(\"Welcome to oops concept\")\n",
        "pyt=Python()\n",
        "pyt.fun()"
      ]
    },
    {
      "cell_type": "code",
      "source": [
        "class Car:\n",
        "    'Common_Car'\n",
        "    car=0\n",
        "    def __init__(self,name,id):\n",
        "        self.name=name\n",
        "        self.id=id\n",
        "        Car.car+=1\n",
        "    def printCardata(self):\n",
        "        print(\"Name: \",self.name,\"Id: \",self.id)\n",
        "c=Car(\"Audi\",2000000)\n",
        "c.printCardata()"
      ],
      "metadata": {
        "colab": {
          "base_uri": "https://localhost:8080/"
        },
        "id": "vQyDBvcShFrS",
        "outputId": "3d870d56-bff7-46f8-8856-398bcaeba51a"
      },
      "execution_count": null,
      "outputs": [
        {
          "output_type": "stream",
          "name": "stdout",
          "text": [
            "Name:  Audi Id:  2000000\n"
          ]
        }
      ]
    },
    {
      "cell_type": "code",
      "source": [
        "class Employee:\n",
        "  def set_data(self,n,a,s):\n",
        "    self.name=n\n",
        "    self.age=a\n",
        "    self.sal=s\n",
        "  def display_data(self):\n",
        "    print(\"Name: \",self.name,\"Age: \",self.age,\"Sal: \",self.sal)\n",
        "e1=Employee()\n",
        "e1.set_data(\"Gangadhar\",23,27000)\n",
        "e1.display_data()"
      ],
      "metadata": {
        "colab": {
          "base_uri": "https://localhost:8080/"
        },
        "id": "hKLYZgi7jIst",
        "outputId": "cb5e4e66-91ae-4d18-818e-625c82d79b68"
      },
      "execution_count": null,
      "outputs": [
        {
          "output_type": "stream",
          "name": "stdout",
          "text": [
            "Name:  Gangadhar Age:  23 Sal:  27000\n"
          ]
        }
      ]
    },
    {
      "cell_type": "code",
      "source": [
        "class Employee:\n",
        "    def init(self,n,a,s):\n",
        "        self.name = n\n",
        "        self.age = a\n",
        "        self.salary = s\n",
        "    def display_data(self):\n",
        "        print(self.name,self.age,self.salary)\n",
        "e1= Employee()\n",
        "e1.init(\"Gangadhar\",23,27000)\n",
        "e1.display_data()"
      ],
      "metadata": {
        "colab": {
          "base_uri": "https://localhost:8080/"
        },
        "id": "hBJJMRjgmpY0",
        "outputId": "c1562c0b-2ee7-4b69-bde9-9f05e9356529"
      },
      "execution_count": null,
      "outputs": [
        {
          "output_type": "stream",
          "name": "stdout",
          "text": [
            "Gangadhar 23 27000\n"
          ]
        }
      ]
    },
    {
      "cell_type": "code",
      "source": [
        "class Birds:\n",
        "    def set_data(self,name):\n",
        "        self.name=name\n",
        "    def display_data(self):\n",
        "        print(self.name)\n",
        "b1=Birds()\n",
        "b1.set_data(\"Parrot\")\n",
        "b1.display_data()"
      ],
      "metadata": {
        "colab": {
          "base_uri": "https://localhost:8080/"
        },
        "id": "N1v4uFFxnf3p",
        "outputId": "e508ddaa-4c27-47c9-bbf6-392d6ea369d5"
      },
      "execution_count": null,
      "outputs": [
        {
          "output_type": "stream",
          "name": "stdout",
          "text": [
            "Parrot\n"
          ]
        }
      ]
    },
    {
      "cell_type": "code",
      "source": [
        "class Number:\n",
        "    def __init__(self,n):\n",
        "        self.number = n\n",
        "    def check_num(self):\n",
        "        if self.number > 0:\n",
        "            print(\"Positive\")\n",
        "        else:\n",
        "            print(\"Negative\")\n",
        "n1 = Number(26)\n",
        "n1.check_num()"
      ],
      "metadata": {
        "colab": {
          "base_uri": "https://localhost:8080/"
        },
        "id": "5mNTuRr8os8-",
        "outputId": "5ccc0ebb-d908-419d-a253-800be0cc4281"
      },
      "execution_count": null,
      "outputs": [
        {
          "output_type": "stream",
          "name": "stdout",
          "text": [
            "Positive\n"
          ]
        }
      ]
    },
    {
      "cell_type": "code",
      "source": [
        "class Number:\n",
        "    def __init__(self,n):\n",
        "        self.number=n\n",
        "    def check_num(self):\n",
        "        if self.number>0:\n",
        "            print(\"positive\")\n",
        "        else:\n",
        "            print(\"negative\")\n",
        "\n",
        "\n",
        "n1=Number(int(input(\"enter a number\")))\n",
        "n1.check_num()"
      ],
      "metadata": {
        "colab": {
          "base_uri": "https://localhost:8080/"
        },
        "id": "NJGOTejyr59r",
        "outputId": "ae818b55-bf86-4be1-e6e0-4ca0c32f38c2"
      },
      "execution_count": null,
      "outputs": [
        {
          "output_type": "stream",
          "name": "stdout",
          "text": [
            "enter a number26\n",
            "positive\n"
          ]
        }
      ]
    },
    {
      "cell_type": "code",
      "source": [
        "class Test:\n",
        "    x=10\n",
        "    def __init__(self):\n",
        "        print(\"Hello\")\n",
        "t=Test()\n",
        "print(Test.x)"
      ],
      "metadata": {
        "colab": {
          "base_uri": "https://localhost:8080/"
        },
        "id": "7I3kdpsxtf2B",
        "outputId": "621f8856-6a0a-4c0d-e115-c75cff5f5a53"
      },
      "execution_count": null,
      "outputs": [
        {
          "output_type": "stream",
          "name": "stdout",
          "text": [
            "Hello\n",
            "10\n"
          ]
        }
      ]
    },
    {
      "cell_type": "code",
      "source": [
        "class Car:\n",
        "    'Common_Car'\n",
        "    car=0\n",
        "    def __init__(self,name,id):\n",
        "        self.name=name\n",
        "        self.id=id\n",
        "        Car.car+=1\n",
        "    def printCardata(self):\n",
        "        print(\"Name: \",self.name,\"Id: \",self.id)\n",
        "c=Car(\"Audi\",2000000)\n",
        "c1=Car(\"BMW\",3000000)\n",
        "c2=Car(\"Benz\",1000000)\n",
        "print(\"Total Cars: \",Car.car)\n",
        "c.printCardata()\n",
        "c1.printCardata()\n",
        "c2.printCardata()"
      ],
      "metadata": {
        "colab": {
          "base_uri": "https://localhost:8080/"
        },
        "id": "yiVLv33Zt_Yj",
        "outputId": "f3030242-f9d3-4379-b3ef-045ceae1f8a0"
      },
      "execution_count": null,
      "outputs": [
        {
          "output_type": "stream",
          "name": "stdout",
          "text": [
            "Total Cars:  3\n",
            "Name:  Audi Id:  2000000\n",
            "Name:  BMW Id:  3000000\n",
            "Name:  Benz Id:  1000000\n"
          ]
        }
      ]
    },
    {
      "cell_type": "code",
      "source": [
        "class test:\n",
        "    def __init__(self):\n",
        "        self.variable = 'Car'\n",
        "        self.Change(self.variable)\n",
        "    def Change(self, var):\n",
        "        var = \"Bike\"\n",
        "obj=test()\n",
        "print(obj.variable)"
      ],
      "metadata": {
        "colab": {
          "base_uri": "https://localhost:8080/"
        },
        "id": "iP6yd0DKu6fQ",
        "outputId": "4278f64b-e43f-4096-ad23-4a57a02e7ca9"
      },
      "execution_count": null,
      "outputs": [
        {
          "output_type": "stream",
          "name": "stdout",
          "text": [
            "Car\n"
          ]
        }
      ]
    },
    {
      "cell_type": "code",
      "source": [
        "class test:\n",
        "    def __init__(self):\n",
        "        self.variable = 'Car'\n",
        "        self.Change(self.variable)\n",
        "    def Change(self, var):\n",
        "        self.var = \"Bike\"\n",
        "obj=test()\n",
        "print(obj.variable)\n",
        "print(obj.var);"
      ],
      "metadata": {
        "colab": {
          "base_uri": "https://localhost:8080/"
        },
        "id": "66ZVVmP3xHne",
        "outputId": "ebad4d81-5aea-47e4-9c71-f623b07560ed"
      },
      "execution_count": null,
      "outputs": [
        {
          "output_type": "stream",
          "name": "stdout",
          "text": [
            "Car\n",
            "Bike\n"
          ]
        }
      ]
    },
    {
      "cell_type": "code",
      "source": [
        "class test:\n",
        "    def __init__(self):\n",
        "        self.variable = 'Car'\n",
        "        self.Change(self.variable)\n",
        "    def Change(self, var):\n",
        "        var = 'Bike'\n",
        "        print(var)\n",
        "obj=test()\n",
        "print(obj.variable)\n"
      ],
      "metadata": {
        "colab": {
          "base_uri": "https://localhost:8080/"
        },
        "id": "LuT3WxSvx3n8",
        "outputId": "9b3a2566-9194-413d-9581-11a092c154bc"
      },
      "execution_count": null,
      "outputs": [
        {
          "output_type": "stream",
          "name": "stdout",
          "text": [
            "Bike\n",
            "Car\n"
          ]
        }
      ]
    },
    {
      "cell_type": "code",
      "source": [
        "class Car:\n",
        "    def speed(self):\n",
        "      print(\"100km\")\n",
        "class Audi(Car):\n",
        "    def engine(self):\n",
        "      print(\"Engine is powerful\")\n",
        "c=Audi()\n",
        "c.engine()\n",
        "c.speed()"
      ],
      "metadata": {
        "id": "zmMl8pWczXAN",
        "colab": {
          "base_uri": "https://localhost:8080/"
        },
        "outputId": "e40c055e-28e1-4e6a-8e08-8ccc69bd36ce"
      },
      "execution_count": null,
      "outputs": [
        {
          "output_type": "stream",
          "name": "stdout",
          "text": [
            "Engine is powerful\n",
            "100km\n"
          ]
        }
      ]
    },
    {
      "cell_type": "code",
      "source": [
        "class Animal:\n",
        "    def speak(self):\n",
        "        print(\"Some generic sound\")\n",
        "class Dog(Animal):\n",
        "    def sound(self):\n",
        "        print(\"bark\")\n",
        "class Cat(Animal):\n",
        "    def sound(self):\n",
        "        print(\"meow\")\n",
        "\n",
        "dog = Dog()\n",
        "cat = Cat()\n",
        "\n",
        "dog.sound()\n",
        "cat.sound()"
      ],
      "metadata": {
        "colab": {
          "base_uri": "https://localhost:8080/"
        },
        "id": "V7dzs0gJj1Y1",
        "outputId": "3f53bba6-7f68-4ac7-d161-d84bf06bbd93"
      },
      "execution_count": null,
      "outputs": [
        {
          "output_type": "stream",
          "name": "stdout",
          "text": [
            "bark\n",
            "meow\n"
          ]
        }
      ]
    },
    {
      "cell_type": "code",
      "source": [
        "class Bike:\n",
        "    def speak(self):\n",
        "        print(\"Some generic sound\")\n",
        "class BMW(Bike):\n",
        "    def sound(self):\n",
        "        print(\"Vroom\")\n",
        "class Ninja(Bike):\n",
        "    def sound(self):\n",
        "        print(\"Boom\")\n",
        "\n",
        "BMW = BMW()\n",
        "Ninja = Ninja()\n",
        "\n",
        "BMW.sound()\n",
        "Ninja.sound()"
      ],
      "metadata": {
        "colab": {
          "base_uri": "https://localhost:8080/"
        },
        "id": "QjclhVhmnQYC",
        "outputId": "7a04438b-9f31-4c3d-8e4d-3d558cf05ce5"
      },
      "execution_count": null,
      "outputs": [
        {
          "output_type": "stream",
          "name": "stdout",
          "text": [
            "Vroom\n",
            "Boom\n"
          ]
        }
      ]
    },
    {
      "cell_type": "code",
      "source": [
        "x=int(input(\"Enter the first number\"))\n",
        "y=int(input(\"Enter the second number\"))\n",
        "class calculate:\n",
        "    def sum(self,x,y):\n",
        "      self.x=x\n",
        "      self.y=y\n",
        "      print(self.x+self.y)\n",
        "\n",
        "    def sub(self,x,y):\n",
        "      self.x=x\n",
        "      self.y=y\n",
        "      print(self.x-self.y)\n",
        "\n",
        "class AdvanceCalculate(calculate):\n",
        "    def mul(self,x,y):\n",
        "      self.x=x\n",
        "      self.y=y\n",
        "      print(self.x*self.y)\n",
        "\n",
        "    def div(self,x,y):\n",
        "      self.x=x\n",
        "      self.y=y\n",
        "      print(self.x/self.y)\n",
        "c=AdvanceCalculate()\n",
        "c.sum(x,y)\n",
        "c.sub(x,y)\n",
        "c.mul(x,y)\n",
        "c.div(x,y)"
      ],
      "metadata": {
        "id": "AW6rBMCppnJi",
        "colab": {
          "base_uri": "https://localhost:8080/"
        },
        "outputId": "f0deb777-dd4f-4914-a603-722a1b00f4d3"
      },
      "execution_count": null,
      "outputs": [
        {
          "output_type": "stream",
          "name": "stdout",
          "text": [
            "Enter the first number10\n",
            "Enter the second number2\n",
            "12\n",
            "8\n",
            "20\n",
            "5.0\n"
          ]
        }
      ]
    },
    {
      "cell_type": "markdown",
      "source": [
        "Single Inheritence"
      ],
      "metadata": {
        "id": "02Fh8dj1rWyZ"
      }
    },
    {
      "cell_type": "code",
      "source": [
        "class Calculator:\n",
        "  def add(self,num1,num2):\n",
        "    self.num1=num1;\n",
        "    self.num2=num2;\n",
        "    return self.num1+self.num2;\n",
        "  def sub(self,num1,num2):\n",
        "    return num1-num2;\n",
        "class AdvancedCalculator(Calculator):\n",
        "    def mul(self,num1,num2):\n",
        "      print(\"Multiplication:\",num1*num2);\n",
        "    def div(self,num1,num2):\n",
        "      return num1//num2;\n",
        "x=AdvancedCalculator()\n",
        "num1=int(input())\n",
        "num2=int(input())\n",
        "print(\"Addition : %d\"%(x.add(num1,num2)))\n",
        "print(\"Subtraction :\",x.sub(num1,num2))\n",
        "x.mul(num1,num2)\n",
        "print(\"Floor Division : %d\"%(x.div(num1,num2)))"
      ],
      "metadata": {
        "id": "fMjBoU2rrx4D",
        "colab": {
          "base_uri": "https://localhost:8080/"
        },
        "outputId": "1eecb153-d23b-4aec-dbff-900df3e27455"
      },
      "execution_count": null,
      "outputs": [
        {
          "output_type": "stream",
          "name": "stdout",
          "text": [
            "10\n",
            "2\n",
            "Addition : 12\n",
            "Subtraction : 8\n",
            "Multiplication: 20\n",
            "Floor Division : 5\n"
          ]
        }
      ]
    },
    {
      "cell_type": "markdown",
      "source": [
        "Multiple Inheritence"
      ],
      "metadata": {
        "id": "a7_eiyJVrcC-"
      }
    },
    {
      "cell_type": "code",
      "source": [
        "class normalroom:\n",
        "  def add(no.)"
      ],
      "metadata": {
        "id": "23II8X7ephal"
      },
      "execution_count": null,
      "outputs": []
    }
  ]
}